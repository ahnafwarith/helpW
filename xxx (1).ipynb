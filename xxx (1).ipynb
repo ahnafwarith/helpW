{
  "nbformat": 4,
  "nbformat_minor": 0,
  "metadata": {
    "colab": {
      "name": "xxx.ipynb",
      "provenance": [],
      "collapsed_sections": []
    },
    "kernelspec": {
      "name": "python3",
      "display_name": "Python 3"
    },
    "language_info": {
      "name": "python"
    }
  },
  "cells": [
    {
      "cell_type": "code",
      "execution_count": 13,
      "metadata": {
        "colab": {
          "base_uri": "https://localhost:8080/"
        },
        "id": "UXhDUO6ZfryI",
        "outputId": "47f80211-68c5-4ce4-cb70-a2f7204db338"
      },
      "outputs": [
        {
          "output_type": "stream",
          "name": "stdout",
          "text": [
            "Student ID must have 8 digits\n",
            "Invalid name given\n",
            "{('Summer2022', 'ID:23780520'): ['Robin Hood23780520', {'gender': 'female', 'dob': '12/4/2001'}, {'CSE9112', '4 star', 4}], ('Summer2022', 'ID:23789431'): ['Robin Hood23789431', {'gender': 'Not given', 'dob': 'Not given'}, {'CSE9112', '4 star', 4}]}\n"
          ]
        }
      ],
      "source": [
        "class Student:\n",
        "  def __init__(self, name, id, gender='Not given', dob='Not given'):\n",
        "    if len(id)!=8:\n",
        "      print('Student ID must have 8 digits')\n",
        "    if ' ' not in name:\n",
        "      print('Invalid name given')\n",
        "    self.uniqueKey = name + id\n",
        "    self.otherInfo = {'gender':gender,'dob':dob}\n",
        "\n",
        "class Course:\n",
        "  def __init__(self,a,b,c):\n",
        "    self.name = a\n",
        "    self.credits = b\n",
        "    self.rating = c\n",
        "    self.studentsInfo = {}\n",
        "  \n",
        "  def addStudent(self,studentObj,sem):\n",
        "    self.studentsInfo[sem,'ID:'+str(studentObj.uniqueKey[10:])] = [studentObj.uniqueKey,studentObj.otherInfo,{self.name,self.credits,self.rating}]\n",
        "\n",
        "  def showDetails(self):\n",
        "    print(self.studentsInfo)\n",
        "\n",
        "s1 = Student('Robin Hood','23789431')\n",
        "s2 = Student('Robin Hood','23780520','female','12/4/2001')\n",
        "s3 = Student('Robin Hood','211092101')\n",
        "s4 = Student('Sadiya','21301191')\n",
        "CSE9112 = Course('CSE9112',3,'3 star')\n",
        "CSE9212 = Course('CSE9112',3,'3 star')\n",
        "PHY9112 = Course('PHY9112',3,'3 star')\n",
        "CSE9112 = Course('CSE9112',4,'4 star')\n",
        "CSE9112.addStudent(s2,'Summer2022')\n",
        "CSE9112.addStudent(s1,'Summer2022')\n",
        "CSE9112.showDetails()"
      ]
    },
    {
      "cell_type": "code",
      "source": [
        "s1 = Student('Robin Hood','23789431')\n",
        "s2 = Student('Robin Hood','23780520','female','12/4/2001')\n",
        "s3 = Student('Robin Hood','211092101')\n",
        "s4 = Student('Sadiya','21301191')\n",
        "CSE9112 = Course('CSE9112',3,False)\n",
        "CSE9212 = Course('CSE9112',3,False)\n",
        "PHY9112 = Course('PHY9112',3,False)\n",
        "CSE9112 = Course('CSE9112',3,True)\n",
        "CSE9112.addStudent(s2,'Summer2022')\n",
        "CSE9112.addStudent(s1,'Summer2022')\n",
        "CSE9112.showDetails()"
      ],
      "metadata": {
        "id": "5xx1_Do4fvfN"
      },
      "execution_count": null,
      "outputs": []
    }
  ]
}